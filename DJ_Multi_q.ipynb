{
  "nbformat": 4,
  "nbformat_minor": 0,
  "metadata": {
    "colab": {
      "provenance": [],
      "authorship_tag": "ABX9TyOhKo4kQkzLZ9mZ4kno3pMk",
      "include_colab_link": true
    },
    "kernelspec": {
      "name": "python3",
      "display_name": "Python 3"
    },
    "language_info": {
      "name": "python"
    }
  },
  "cells": [
    {
      "cell_type": "markdown",
      "metadata": {
        "id": "view-in-github",
        "colab_type": "text"
      },
      "source": [
        "<a href=\"https://colab.research.google.com/github/dkv1234/Enhanced-Deutsch-Jozsa-Algorithm-with-Multi-Qubit-Balanced-Functions/blob/main/DJ_Multi_q.ipynb\" target=\"_parent\"><img src=\"https://colab.research.google.com/assets/colab-badge.svg\" alt=\"Open In Colab\"/></a>"
      ]
    },
    {
      "cell_type": "code",
      "execution_count": 3,
      "metadata": {
        "colab": {
          "base_uri": "https://localhost:8080/"
        },
        "id": "XkCMiFauIq_y",
        "outputId": "0ecd20d8-ecc8-4ed3-b217-f9cca919dd32"
      },
      "outputs": [
        {
          "output_type": "stream",
          "name": "stdout",
          "text": [
            "Requirement already satisfied: qiskit in /usr/local/lib/python3.10/dist-packages (1.2.4)\n",
            "Requirement already satisfied: rustworkx>=0.15.0 in /usr/local/lib/python3.10/dist-packages (from qiskit) (0.15.1)\n",
            "Requirement already satisfied: numpy<3,>=1.17 in /usr/local/lib/python3.10/dist-packages (from qiskit) (1.26.4)\n",
            "Requirement already satisfied: scipy>=1.5 in /usr/local/lib/python3.10/dist-packages (from qiskit) (1.13.1)\n",
            "Requirement already satisfied: sympy>=1.3 in /usr/local/lib/python3.10/dist-packages (from qiskit) (1.13.1)\n",
            "Requirement already satisfied: dill>=0.3 in /usr/local/lib/python3.10/dist-packages (from qiskit) (0.3.9)\n",
            "Requirement already satisfied: python-dateutil>=2.8.0 in /usr/local/lib/python3.10/dist-packages (from qiskit) (2.8.2)\n",
            "Requirement already satisfied: stevedore>=3.0.0 in /usr/local/lib/python3.10/dist-packages (from qiskit) (5.3.0)\n",
            "Requirement already satisfied: typing-extensions in /usr/local/lib/python3.10/dist-packages (from qiskit) (4.12.2)\n",
            "Requirement already satisfied: symengine<0.14,>=0.11 in /usr/local/lib/python3.10/dist-packages (from qiskit) (0.13.0)\n",
            "Requirement already satisfied: six>=1.5 in /usr/local/lib/python3.10/dist-packages (from python-dateutil>=2.8.0->qiskit) (1.16.0)\n",
            "Requirement already satisfied: pbr>=2.0.0 in /usr/local/lib/python3.10/dist-packages (from stevedore>=3.0.0->qiskit) (6.1.0)\n",
            "Requirement already satisfied: mpmath<1.4,>=1.1.0 in /usr/local/lib/python3.10/dist-packages (from sympy>=1.3->qiskit) (1.3.0)\n"
          ]
        }
      ],
      "source": [
        "!pip install qiskit"
      ]
    },
    {
      "cell_type": "code",
      "source": [
        "!pip install qiskit qiskit-aer"
      ],
      "metadata": {
        "colab": {
          "base_uri": "https://localhost:8080/"
        },
        "id": "HmH3hXHqI7UN",
        "outputId": "5dd659aa-7b72-499b-f008-c8bc11994c17"
      },
      "execution_count": 4,
      "outputs": [
        {
          "output_type": "stream",
          "name": "stdout",
          "text": [
            "Requirement already satisfied: qiskit in /usr/local/lib/python3.10/dist-packages (1.2.4)\n",
            "Collecting qiskit-aer\n",
            "  Downloading qiskit_aer-0.15.1-cp310-cp310-manylinux_2_17_x86_64.manylinux2014_x86_64.whl.metadata (8.0 kB)\n",
            "Requirement already satisfied: rustworkx>=0.15.0 in /usr/local/lib/python3.10/dist-packages (from qiskit) (0.15.1)\n",
            "Requirement already satisfied: numpy<3,>=1.17 in /usr/local/lib/python3.10/dist-packages (from qiskit) (1.26.4)\n",
            "Requirement already satisfied: scipy>=1.5 in /usr/local/lib/python3.10/dist-packages (from qiskit) (1.13.1)\n",
            "Requirement already satisfied: sympy>=1.3 in /usr/local/lib/python3.10/dist-packages (from qiskit) (1.13.1)\n",
            "Requirement already satisfied: dill>=0.3 in /usr/local/lib/python3.10/dist-packages (from qiskit) (0.3.9)\n",
            "Requirement already satisfied: python-dateutil>=2.8.0 in /usr/local/lib/python3.10/dist-packages (from qiskit) (2.8.2)\n",
            "Requirement already satisfied: stevedore>=3.0.0 in /usr/local/lib/python3.10/dist-packages (from qiskit) (5.3.0)\n",
            "Requirement already satisfied: typing-extensions in /usr/local/lib/python3.10/dist-packages (from qiskit) (4.12.2)\n",
            "Requirement already satisfied: symengine<0.14,>=0.11 in /usr/local/lib/python3.10/dist-packages (from qiskit) (0.13.0)\n",
            "Requirement already satisfied: psutil>=5 in /usr/local/lib/python3.10/dist-packages (from qiskit-aer) (5.9.5)\n",
            "Requirement already satisfied: six>=1.5 in /usr/local/lib/python3.10/dist-packages (from python-dateutil>=2.8.0->qiskit) (1.16.0)\n",
            "Requirement already satisfied: pbr>=2.0.0 in /usr/local/lib/python3.10/dist-packages (from stevedore>=3.0.0->qiskit) (6.1.0)\n",
            "Requirement already satisfied: mpmath<1.4,>=1.1.0 in /usr/local/lib/python3.10/dist-packages (from sympy>=1.3->qiskit) (1.3.0)\n",
            "Downloading qiskit_aer-0.15.1-cp310-cp310-manylinux_2_17_x86_64.manylinux2014_x86_64.whl (12.3 MB)\n",
            "\u001b[2K   \u001b[90m━━━━━━━━━━━━━━━━━━━━━━━━━━━━━━━━━━━━━━━━\u001b[0m \u001b[32m12.3/12.3 MB\u001b[0m \u001b[31m89.3 MB/s\u001b[0m eta \u001b[36m0:00:00\u001b[0m\n",
            "\u001b[?25hInstalling collected packages: qiskit-aer\n",
            "Successfully installed qiskit-aer-0.15.1\n"
          ]
        }
      ]
    },
    {
      "cell_type": "code",
      "source": [
        "from qiskit import QuantumCircuit\n",
        "from qiskit_aer import Aer\n",
        "from qiskit.primitives import Sampler\n",
        "import numpy as np\n",
        "\n",
        "# Number of qubits for input + 1 ancillary qubit\n",
        "n = 3  # Feel free to increase this for more complexity\n",
        "sampler = Sampler()  # Initialize the Sampler\n",
        "\n",
        "# Step 1: Deutsch-Jozsa Circuit Preparation\n",
        "def deutsch_jozsa_circuit(n, oracle_type=\"balanced\"):\n",
        "    \"\"\"\n",
        "    Construct the Deutsch-Jozsa circuit with a specified oracle type.\n",
        "    Args:\n",
        "        n (int): Number of input qubits (excluding ancillary qubit).\n",
        "        oracle_type (str): Type of function - \"constant\" or \"balanced\".\n",
        "    Returns:\n",
        "        QuantumCircuit: A quantum circuit implementing Deutsch-Jozsa algorithm.\n",
        "    \"\"\"\n",
        "    # Create a quantum circuit with n input qubits and one ancillary qubit\n",
        "    circuit = QuantumCircuit(n + 1, n)  # Includes n input and 1 ancillary qubit\n",
        "\n",
        "    # Initialize all qubits in |+⟩ state, ancillary in |−⟩\n",
        "    circuit.h(range(n))  # Apply Hadamard to all input qubits\n",
        "    circuit.x(n)  # Flip the ancillary qubit\n",
        "    circuit.h(n)  # Apply Hadamard to the ancillary qubit\n",
        "\n",
        "    # Step 2: Construct the Oracle\n",
        "    # Add gates for a constant or balanced oracle\n",
        "    if oracle_type == \"balanced\":\n",
        "        for qubit in range(n):\n",
        "            circuit.cx(qubit, n)  # Apply CNOT from each input to ancillary qubit\n",
        "\n",
        "    # Apply Hadamard gates to input qubits after the oracle\n",
        "    circuit.h(range(n))\n",
        "    # Measure the result\n",
        "    circuit.measure(range(n), range(n))\n",
        "    return circuit\n",
        "\n",
        "# Step 3: Testing Function with Constant and Balanced Oracles\n",
        "def test_deutsch_jozsa():\n",
        "    # Create Deutsch-Jozsa circuit with balanced and constant oracles\n",
        "    balanced_circuit = deutsch_jozsa_circuit(n, oracle_type=\"balanced\")\n",
        "    constant_circuit = deutsch_jozsa_circuit(n, oracle_type=\"constant\")\n",
        "\n",
        "    # Run the sampler for each circuit\n",
        "    balanced_result = sampler.run(circuits=[balanced_circuit]).result()\n",
        "    constant_result = sampler.run(circuits=[constant_circuit]).result()\n",
        "\n",
        "    # Analyze the results\n",
        "    balanced_counts = balanced_result.quasi_dists[0]\n",
        "    constant_counts = constant_result.quasi_dists[0]\n",
        "\n",
        "    # Interpret results: Balanced should show non-zero result; Constant should be all zeros\n",
        "    print(\"\\nBalanced Circuit Result:\", balanced_counts)\n",
        "    print(\"\\nConstant Circuit Result:\", constant_counts)\n",
        "\n",
        "# Run the Deutsch-Jozsa algorithm test\n",
        "test_deutsch_jozsa()\n"
      ],
      "metadata": {
        "colab": {
          "base_uri": "https://localhost:8080/"
        },
        "id": "47Scz4GEI1UJ",
        "outputId": "b7c70c96-c3c7-4b5b-eab0-59c68ea0e044"
      },
      "execution_count": 5,
      "outputs": [
        {
          "output_type": "stream",
          "name": "stdout",
          "text": [
            "\n",
            "Balanced Circuit Result: {7: 0.999999999999999}\n",
            "\n",
            "Constant Circuit Result: {0: 0.999999999999999}\n"
          ]
        },
        {
          "output_type": "stream",
          "name": "stderr",
          "text": [
            "<ipython-input-5-29fd0dc232d3>:8: DeprecationWarning: The class ``qiskit.primitives.sampler.Sampler`` is deprecated as of qiskit 1.2. It will be removed no earlier than 3 months after the release date. All implementations of the `BaseSamplerV1` interface have been deprecated in favor of their V2 counterparts. The V2 alternative for the `Sampler` class is `StatevectorSampler`.\n",
            "  sampler = Sampler()  # Initialize the Sampler\n"
          ]
        }
      ]
    }
  ]
}